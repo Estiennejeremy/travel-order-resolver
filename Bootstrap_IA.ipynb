{
  "nbformat": 4,
  "nbformat_minor": 0,
  "metadata": {
    "colab": {
      "name": "Bootstrap IA.ipynb",
      "provenance": [],
      "collapsed_sections": [],
      "toc_visible": true
    },
    "kernelspec": {
      "name": "python3",
      "display_name": "Python 3"
    },
    "language_info": {
      "name": "python"
    }
  },
  "cells": [
    {
      "cell_type": "markdown",
      "metadata": {
        "id": "rCr7duu1UNWw"
      },
      "source": [
        "# Getting the data sets"
      ]
    },
    {
      "cell_type": "code",
      "metadata": {
        "id": "4PXx6OUtGqUO",
        "colab": {
          "base_uri": "https://localhost:8080/"
        },
        "outputId": "d2c3e8a9-5264-4ccf-d910-a0aefb90636e"
      },
      "source": [
        "\n",
        "from os import listdir\n",
        "from os.path import isfile, join\n",
        "\n",
        "\n",
        "mypath = \"/content/drive/MyDrive/Colab Notebooks/discours/\"\n",
        "onlyfiles = [f for f in listdir(mypath) if isfile(join(mypath, f))]\n",
        "\n",
        "# Read one file\n",
        "filename = '/content/drive/MyDrive/Colab Notebooks/discours/Alain_Madelin_702.txt'\n",
        "file = open(filename, 'r')\n",
        "data = file.read()\n",
        "# separate each words\n",
        "spliteddata = data.split()\n",
        "\n",
        "\n",
        "# creation of discoursarray\n",
        "discoursarray = []\n",
        "for i in range(len(onlyfiles)):\n",
        "  dicts = {}\n",
        "  name = onlyfiles[i]\n",
        "  thedata = open(mypath + name, 'r').read()\n",
        "\n",
        "  object = {\"filenames\": name, \"data\": thedata}\n",
        "\n",
        "  discoursarray.append(object)\n",
        "\n",
        "\n",
        "\n",
        "#print(dics)\n",
        "for i in range(len(discoursarray)):\n",
        "  print(discoursarray[i][\"filenames\"]+\": \"+ discoursarray[i][\"data\"][:40])\n"
      ],
      "execution_count": null,
      "outputs": [
        {
          "output_type": "stream",
          "name": "stdout",
          "text": [
            "Alain_Madelin_702.txt: \n",
            "\"Les Français ne veulent pas du match r\n",
            "Arlette_Laguiller_70.txt: \n",
            "Travailleuses, travailleurs, camarades \n",
            "Arlette_Laguiller_38.txt: \n",
            "Travailleuses, travailleurs, camarades \n",
            "Arlette_Laguiller_97.txt: \n",
            "Travailleuses, travailleurs, camarades \n",
            "Arlette_Laguiller_47.txt: \n",
            "Travailleuses, Travailleurs, camarades \n",
            "Bruno_Mégret_466.txt: \n",
            "Mesdames, Messieurs,\n",
            "La question de la \n",
            "Arlette_Laguiller_810.txt: \n",
            "Travailleuses, travailleurs, camarades \n",
            "Arlette_Laguiller_201.txt: \n",
            "Travailleuses, Travailleurs, camarades \n",
            "Arlette_Laguiller_765.txt: \n",
            "Travailleuses, travailleurs, camarades \n",
            "Arlette_Laguiller_86.txt: \n",
            "Travailleuses, Travailleurs, camarades \n",
            "Corinne_Lepage_889.txt: \n",
            "Mesdames ,messieurs\n",
            "Je tiens tout d'abo\n",
            "Eva_Joly_339.txt: \n",
            "Chers amis,\n",
            "C’est ce soir le dernier me\n",
            "Eva_Joly_725.txt: \n",
            "Chers amis,\n",
            "Je veux vous parler ce soir\n",
            "Arlette_Laguiller_299.txt: \n",
            "Travailleuses, travailleurs, camarades \n",
            "Dominique_Voynet_663.txt: \n",
            "http://www.dailymotion.com/video/x1plv5\n",
            "François_Bayrou_751.txt: \n",
            "Mes chers amis, j'ai une bonne nouvelle\n",
            "François_Bayrou_259.txt: \n",
            "Mes chers amis, je suis très ému par vo\n",
            "François_Bayrou_156.txt: \n",
            "Mes premiers mots seront des mots d'exc\n",
            "François_Bayrou_257.txt: \n",
            "Mes chers amis, je n'ai qu'un mot à dir\n",
            "François_Bayrou_108.txt: \n",
            "Vous êtes très beaux ! Vous êtes très b\n",
            "François_Bayrou_546.txt: \n",
            "Mes chers amis, Ici bat le coeur de la \n",
            "François_Bayrou_798.txt: \n",
            "Comment douter, en vous voyant, de la r\n",
            "François_Bayrou_814.txt: \n",
            "Merci de votre amitié et merci de votre\n",
            "François_Bayrou_965.txt: \n",
            "Merci de votre présence, merci de votre\n",
            "François_Hollande_188.txt: \n",
            "Mes chers amis, j’entends la clameur. J\n",
            "François_Hollande_286.txt: \n",
            "Mesdames, Messieurs, chers amis, je che\n",
            "François_Bayrou_886.txt: \n",
            "Mes chers amis... Si cette expression \"\n",
            "François_Hollande_402.txt: \n",
            "Monsieur le Maire, Mesdames Messieurs l\n",
            "François_Hollande_227.txt: \n",
            "Mes chers amis, j’avais plusieurs raiso\n",
            "François_Hollande_476.txt: \n",
            "Bonsoir Toulouse ! Quand je me suis déc\n",
            "François_Hollande_836.txt: \n",
            "Mesdames, Messieurs, vous êtes nombreux\n",
            "François_Hollande_470.txt: \n",
            "Mesdames, Messieurs, chers amis, je rem\n",
            "François_Hollande_709.txt: \n",
            "Mes chers amis ! Merci d’être venus aus\n",
            "François_Hollande_937.txt: \n",
            "Mes chers amis, vous êtes là ? Ca tombe\n",
            "François_Hollande_951.txt: \n",
            "Mes chers amis, vous êtes là, rien ne v\n",
            "Gérard_Schivardi_999.txt: \n",
            "http://schivardimedias2007.unblog.fr/20\n",
            "Jacques_Chirac_60.txt: \n",
            "Chers Amis,\n",
            "L'engagement culturel est u\n",
            "François_Hollande_975.txt: \n",
            "Mes chers amis, je suis heureux de vous\n",
            "Jacques_Chirac_139.txt: \n",
            "Mes chers amis,\n",
            "Mes chers compatriotes,\n",
            "Jacques_Chirac_375.txt: \n",
            "Madame la Présidente de la Région Guade\n",
            "Jacques_Chirac_454.txt: \n",
            "Mes chers amis,\n",
            "Merci pour votre présen\n",
            "Jacques_Chirac_514.txt: \n",
            "Monsieur le Président du Sénat, Cher Ch\n",
            "Jacques_Chirac_624.txt: \n",
            "Cher Jean-Pierre RAFFARIN,\n",
            "Mes chers Am\n",
            "Jacques_Chirac_638.txt: \n",
            "Cher Marc-Philippe DAUBRESSE,\n",
            "Cher Thie\n",
            "Jacques_Chirac_758.txt: \n",
            "Monsieur le Maire d'Ussel, Cher Laurent\n",
            "Jean-Luc_Mélenchon_391.txt: \n",
            "http://www.lepartidegauche.fr/lateledeg\n",
            "Jean-Marie_Le_Pen_684.txt: \n",
            "Mes chers camarades,\n",
            "Mes chers Compatri\n",
            "Jean-Marie_Le_Pen_922.txt: \n",
            "Chers amis, merci d'être venus si nombr\n",
            "Jean-Pierre_Chevènement_849.txt: \n",
            "Je suis particulièrement heureux d'être\n",
            "Jean-Marie_Le_Pen_475.txt: \n",
            "Mes Chers compatriotes de Métropole, d'\n",
            "Jean-Marie_Le_Pen_982.txt: \n",
            "Mes chers compatriotes,\n",
            "Quelle joie de \n",
            "Jean-Pierre_Chevènement_504.txt: \n",
            "Les démolisseurs de l'unité nationale s\n",
            "Jean-Pierre_Chevènement_818.txt: \n",
            "Honneur au peuple français !\n",
            "Jamais les\n",
            "José_Bové_963.txt: \n",
            "http://www.dailymotion.com/video/x1q0rt\n",
            "Lionel_Jospin_467.txt: \n",
            "Mes chers amis,\n",
            "Je voudrais remercier M\n",
            "Lionel_Jospin_300.txt: \n",
            "Mon cher Guy, mon cher Serge, chers ami\n",
            "Marie-George_Buffet_194.txt: \n",
            "Ici, à l'usine Renault du Mans, cinq ou\n",
            "Lionel_Jospin_829.txt: \n",
            "Mesdames, Messieurs,\n",
            "Chers amis, Chers \n",
            "Lionel_Jospin_535.txt: \n",
            "Mes chers amis,\n",
            "En 1995, les choses éta\n",
            "Lionel_Jospin_497.txt: \n",
            "Mesdames et Messieurs,\n",
            "Mes cher(e)s cam\n",
            "Marine_Le_Pen_553.txt: \n",
            "C’est avec un immense plaisir que je pa\n",
            "Lionel_Jospin_858.txt: \n",
            "J'adresse mes excuses à ceux que je dev\n",
            "Nathalie_Arthaud_211.txt: \n",
            "Travailleuses, travailleurs, camarades \n",
            "Nathalie_Arthaud_66.txt: \n",
            "Travailleuses, travailleurs, camarades \n",
            "Nicolas_Sarkozy_144.txt: \n",
            "Mes chers amis,\n",
            "Y a-t-il meilleur endro\n",
            "Nicolas_Sarkozy_0.txt: \n",
            "Mes chers amis,\n",
            "Je salue la Touraine, t\n",
            "Nicolas_Sarkozy_69.txt: \n",
            "Mes chers amis – merci beaucoup – mes c\n",
            "Nicolas_Sarkozy_187.txt: \n",
            "Mes chers amis,\n",
            "En venant ici à Meaux, \n",
            "Nicolas_Sarkozy_402.txt: \n",
            "Mes chers amis,\n",
            "Toulouse, capitale de l\n",
            "Nicolas_Sarkozy_435.txt: \n",
            "Mes chers amis, je salue Toulouse ! Je \n",
            "Nicolas_Sarkozy_225.txt: \n",
            "À quelques jours de la fin de cette cam\n",
            "Nicolas_Sarkozy_519.txt: \n",
            "Mes chers amis,\n",
            "C'est ici, en Languedoc\n",
            "Nicolas_Sarkozy_535.txt: \n",
            "Mes chers concitoyens,\n",
            "Écoutez le Génér\n",
            "Nicolas_Sarkozy_531.txt: \n",
            "Mes chers amis,\n",
            "En prenant la parole de\n",
            "Nicolas_Sarkozy_544.txt: \n",
            "Mesdames et Messieurs,\n",
            "Je veux d'abord \n",
            "Nicolas_Sarkozy_555.txt: \n",
            "Mes chers amis,\n",
            "Je veux vous dire mon b\n",
            "Nicolas_Sarkozy_624.txt: \n",
            "Mes chers amis, Ils pensaient que vous \n",
            "Nicolas_Sarkozy_595.txt: \n",
            "Mes chers amis, d’abord, je veux saluer\n",
            "Nicolas_Sarkozy_701.txt: \n",
            "Mes chers amis, Je suis très heureux...\n",
            "Olivier_Besancenot_13.txt: \n",
            "http://www.dailymotion.com/video/x1qdu4\n",
            "Nicolas_Sarkozy_679.txt: \n",
            "Mes chers amis. Merci, Monsieur le Mair\n",
            "Nicolas_Sarkozy_692.txt: \n",
            "Mes chers amis, c’est un bonheur que de\n",
            "Nicolas_Sarkozy_937.txt: \n",
            "Mes chers amis,\n",
            "À quatre jours du vote,\n",
            "Olivier_Besancenot_536.txt: \n",
            "Travailleuses, travailleurs, camarades \n",
            "Robert_Hue_163.txt: \n",
            "Cher-e-s ami-e-s, cher-e-s camarades,\n",
            "D\n",
            "Philippe_Poutou_416.txt: \n",
            "http://www.dailymotion.com/video/xq3a30\n",
            "Robert_Hue_275.txt: \n",
            "Mesdames, Messieurs, cher-e-s ami-e-s, \n",
            "Robert_Hue_402.txt: \n",
            "Mesdames, Messieurs, cher-e-s ami-e-s, \n",
            "Robert_Hue_991.txt: \n",
            "Mesdames, Messieurs, cher-e-s ami-e-s, \n",
            "Ségolène_Royal_324.txt: \n",
            "Bonsoir, amis de Lyon et de toute la ré\n",
            "Ségolène_Royal_401.txt: \n",
            "Bonjour la France présidente !\n",
            "Je la vo\n",
            "Ségolène_Royal_732.txt: \n",
            "Bonsoir.\n",
            "Chers amis, chers amis de Lorr\n",
            "Ségolène_Royal_781.txt: \n",
            "Bonsoir Lille !\n",
            "Bonsoir le Nord.\n",
            "Merci \n",
            "Ségolène_Royal_860.txt: \n",
            "Bonjour Toulouse !\n",
            "Merci, Jose Luis Zap\n",
            "Ségolène_Royal_890.txt: \n",
            "Je vous salue ! Je vous salue peuple de\n"
          ]
        }
      ]
    },
    {
      "cell_type": "markdown",
      "metadata": {
        "id": "kVZVOoQWQj2f"
      },
      "source": [
        "# From raw text to vector - tf-idf"
      ]
    },
    {
      "cell_type": "code",
      "metadata": {
        "id": "RwvNZK9mr_9Y",
        "colab": {
          "base_uri": "https://localhost:8080/"
        },
        "outputId": "59dd0791-5bd9-4ff8-e177-61071c93b329"
      },
      "source": [
        "from sklearn.feature_extraction.text import TfidfTransformer\n",
        "from sklearn.feature_extraction.text import CountVectorizer\n",
        "from sklearn.pipeline import Pipeline\n",
        "import numpy as np\n",
        "import nltk\n",
        "nltk.download('stopwords')\n",
        "from nltk.corpus import stopwords\n",
        "\n",
        "# Stop words french list\n",
        "french_stopwords_list = set(stopwords.words('french'))\n",
        "print(french_stopwords_list)\n",
        "\n",
        "# Corpus (only text)\n",
        "corpus = []\n",
        "for discours in discoursarray :\n",
        "  corpus.append(discours[\"data\"])\n",
        "\n",
        "# Cleaning vocabulary - https://pythonexamples.org/python-find-unique-words-in-text-file/\n",
        "vocabulary = []\n",
        "for text in corpus:\n",
        "  text = text.lower()\n",
        "  words = text.split()\n",
        "  words = [word.strip('.,!;()[]:?*-\"') for word in words]\n",
        "  vocabulary.append(words)\n",
        "\n",
        "# Get unique vocabulary\n",
        "unique = []\n",
        "for word in words:\n",
        "    if word not in unique:\n",
        "        unique.append(word)\n",
        "#sort\n",
        "unique.sort()\n",
        "\n",
        "#print\n",
        "print(unique)\n",
        "\n",
        "\n",
        "vectorizer = CountVectorizer()\n",
        "X = vectorizer.fit_transform(corpus)\n",
        "#vocabulary = vectorizer.get_feature_names()\n",
        "#print(vectorizer.get_feature_names())\n",
        "#print(X.toarray())\n",
        "\n",
        "pipe = Pipeline([('count', CountVectorizer(vocabulary=unique, stop_words=french_stopwords_list)),('tfid', TfidfTransformer())]).fit(corpus)\n",
        "pipe['count'].transform(corpus).toarray()\n",
        "pipe['tfid'].idf_\n",
        "pipe.transform(corpus).shape"
      ],
      "execution_count": null,
      "outputs": [
        {
          "output_type": "stream",
          "name": "stdout",
          "text": [
            "[nltk_data] Downloading package stopwords to /root/nltk_data...\n",
            "[nltk_data]   Unzipping corpora/stopwords.zip.\n",
            "{'qu', 'toi', 'eurent', 'fus', 'eu', 'étaient', 'pour', 'aurait', 'auront', 'serons', 'fusses', 'sur', 'étant', 'seras', 'étions', 'tes', 'êtes', 'sa', 'ai', 'mes', 'serez', 'aviez', 'sera', 'ayants', 'à', 'avait', 'on', 'même', 'y', 'étais', 'm', 'aurez', 'elle', 'moi', 'tu', 'aurions', 'se', 'mon', 'seriez', 'son', 'étées', 'fussiez', 'ma', 'ayez', 'était', 'aie', 'pas', 'd', 'soyez', 'fussions', 'dans', 'leur', 'en', 'seront', 'auriez', 'avais', 'aux', 'ils', 'les', 'c', 'sois', 'fûtes', 'avons', 'eûtes', 'par', 'ayante', 'votre', 'ait', 'mais', 'soit', 'étantes', 'ont', 'avez', 'vos', 'n', 'étants', 'es', 'aurais', 'un', 'eue', 'eussiez', 'seraient', 'du', 'sommes', 'eux', 'été', 'de', 'lui', 'sont', 'fussent', 'eussent', 'furent', 'aurai', 'des', 'ayant', 'le', 'serait', 'la', 'avaient', 'il', 'soient', 'notre', 'soyons', 'te', 'eus', 'et', 'aies', 'nous', 'fusse', 'étante', 'étés', 'ses', 'ton', 'j', 'aient', 'ou', 'au', 'que', 'étée', 'avec', 'ayantes', 'eut', 'fûmes', 'vous', 'ayons', 'eût', 'est', 'étiez', 'fût', 'avions', 'aurons', 'ce', 'je', 'nos', 'l', 'auras', 'suis', 'fut', 'eussions', 'as', 't', 'serions', 'ta', 'qui', 'aura', 'serai', 'serais', 'eusse', 's', 'eues', 'auraient', 'ces', 'me', 'ne', 'une', 'eûmes', 'eusses'}\n",
            "['', '107', '16', '1886', '1891', '1919', '1936', '1968', '1er', '20', '2006', '38', '500.000', '68', '6e', '828', '829', '830', '831', 'a', 'abandonnées', 'abusée', 'acceptable', 'accompagnent', 'accès', 'accéder', 'acte', 'actifs', 'active', 'adolescents', 'affaire', 'affaires', 'affirmaient', 'affirme', 'affirment', 'afghanistan', 'agence', 'agir', 'aidés', 'aient', 'aimerait', 'aimons', 'aimons-nous', 'ainsi', 'allaient', 'aller', 'allons', 'alors', 'alter', 'altitude', 'ambassadeurs', 'ambition', 'amis', 'améliorent', 'analyses', 'andré', 'annoncée', 'ans', 'anticipant', 'antilibérale', 'apaisé', 'appartenances', 'appeler', 'appelés', 'après', 'artifice', 'artistes', 'artistique', 'aspiration', 'associés', 'attaquées', 'attendant', 'attendent', 'attentifs', 'au', 'aucun', 'audace', 'augmenter', 'augmentés', \"aujourd'hui\", 'aura', 'aurait', 'aurez', 'aussi', 'autorité', 'autour', 'autre', 'autres', 'aux', 'auxquels', 'avaient', 'avait', 'avancer', 'avancé', 'avant', 'avec', 'avenir', 'avez', 'avoir', 'avons', 'avouer', 'ayez', 'balles', 'bande', 'barricades', 'bas', 'bataille', 'bataillon', 'battaient', 'battent', 'beau', 'beaucoup', 'beauté', 'beaux', 'belle', 'belles', 'bercent', 'bercy', 'bernard', 'besoin', 'betancourt', 'bien', 'bien-être', 'bilan', 'bilans', 'blocage', 'blocs', 'bloqué', 'bloquée', 'bonheur', 'bonus', 'bras', 'bref', 'brillants', 'brouiller', 'brutaliser', 'brutalité', 'but', \"c'est\", \"c'était\", 'calme', 'calment', 'campagne', 'campagnes', 'candidat', 'candidats', 'captent', 'car', 'carrière', 'cas', 'ce', 'cela', 'celle', 'celles', 'celui', 'celui-là', 'cendre', 'centre', 'certain', 'certaine', 'certains', 'certes', 'cerveau', 'ces', 'cesserai', 'cet', 'cette', 'ceux', 'ceux-là', 'cfdt', 'cgt', 'chacun', 'chacune', 'champs', 'champs-elysées', 'chanter', 'chantier', 'chapeaux', 'chaque', 'charges', 'charléty', 'chefs', 'chemin', 'cherchent', 'chereque', 'chers', 'chicago', 'choc', 'choisi', 'choisir', 'choix', 'chômage', 'chômeurs', 'cinq', 'citoyenne', 'citoyens', 'citoyens-là', 'civile', 'clair', 'coeur', 'coins', 'colère', 'combat', 'combien', 'comme', 'commencent', 'comment', 'commerce', 'commun', 'compatibles', 'compatriote', 'comprendre', 'comprends', 'compris', 'compromis', 'compter', 'comptes', 'compétitivité', 'concorde', 'concrètes', 'concurrence', 'condition', 'conduire', 'conduite', 'confessionnelles', 'confiance', 'confidence', 'conflits', 'confondues', 'confrontés', 'confusion', 'congés', 'conjugales', 'connaît', 'connaître', 'conquérante', 'conquête', 'conscience', 'conseilles', 'conservateur', 'considérable', 'construire', 'construirons', 'construisent', 'construisons', 'construit', 'construites', 'conséquences', 'contenu', 'continue', 'contraception', 'contraire', 'contre', 'convaincre', 'convergences', 'corps', 'correctement', 'coup', 'coups', 'courage', 'courageusement', 'cours', 'couver', 'crimes', 'crise', 'croire', 'crois', 'croissance', 'croisées', 'cruellement', 'créance', 'créant', 'création', 'crée', 'créent', 'créer', 'créerai', 'créés', 'culture', 'culturelle', 'cumul', 'côté', 'côtés', \"d'abord\", \"d'accabler\", \"d'accomplir\", \"d'achat\", \"d'ailleurs\", \"d'alors\", \"d'aubaine\", \"d'aujourd'hui\", \"d'autres\", \"d'avenir\", \"d'avoir\", \"d'ellemême\", \"d'elles\", \"d'emploi\", \"d'emplois\", \"d'en\", \"d'entre\", \"d'entreprise\", \"d'espoir\", \"d'euros\", \"d'exclusion\", \"d'idées\", \"d'intimidation\", \"d'opinions\", \"d'opposer\", \"d'outre-mer\", \"d'ouvriers\", \"d'où\", \"d'un\", \"d'une\", \"d'économistes\", \"d'écouter\", \"d'élever\", \"d'élite\", 'dakar', 'danger', 'dangereux', 'dangers', 'dans', 'date', 'de', 'demain', 'demande', 'demandent', 'demandée', 'depuis', 'derniers', 'dernière', 'des', 'desquels', 'dessinée', 'destructions', 'deux', 'deuxième', 'devant', 'devoirs', 'devons', 'devrait', 'devront', 'dialogue', 'difficulté', 'difficultés', 'dignité', 'dimanche', 'dire', 'dirigeant', 'dirigeants', 'dis', 'disaient', 'disait', 'disait-il', 'discours', 'discrimination', 'discriminations', 'disent', 'disparaître', 'dit', 'diversité', 'divisions', 'dix-huit', 'doc', 'doit', 'donc', 'donne', 'donner', 'donnerai', 'donnons', 'donné', 'dont', 'doute', 'dressant', 'dresser', 'droit', 'droite', 'droits', 'du', 'durable', 'dès', 'débat', 'débats', 'débloquerons', 'débloquée', 'décents', 'décevons', 'décider', 'déclarer', 'déclaré', 'découragent', 'découvrir', 'décrire', 'défendu', 'défense', 'défi', 'dégâts', 'déjà', 'délaissés', 'délitement', 'délocalisations', 'démenti', 'démocratie', 'démocratique', 'démultipliez-vous', 'départ', 'départements', 'déremboursement', 'désapprouvent', 'désespéré', 'désespérément', 'désignerai', 'désir', 'détenu', 'développé', 'dû', 'e', 'effets', 'efficacement', 'eh', 'elle', 'elle-même', 'elles', 'emploi', 'emplois', 'emède', 'en', 'encadrent', 'encore', 'encouragements', 'enfants', 'engagement', 'engagée', 'ennemi', 'enseignants', 'ensemble', 'entendre', 'entendu', 'enthousiasme', 'entier', 'entre', 'entreprendre', 'entrepreneurs', 'entrepris', 'entreprise', 'entreprises', 'envie', 'espoirs', 'esprit', 'esprits', 'espérée', 'esquiver', 'est', 'et', 'eu', 'eurent', 'europe', 'ex-soixante-huitards', 'exaltent', 'exceptionnelle', 'exclu', 'exemple', 'exige', 'exigeantes', 'extraordinaire', 'face', 'facile', 'faire', 'fais', 'fait', 'fait-il', 'fallu', 'fameuse', 'famille', 'familles', 'fatalité', 'faudra', 'faut', 'faute', 'façon', 'feint', 'femme', 'femmes', 'fera', 'ferai', 'fermées', 'fertilisantes', 'ferveur', 'feu', 'fier', 'fille', 'fils', 'fin', 'finalement', 'finalité', 'financière', 'finir', 'fiscales', 'fière', 'fois', 'fonction', 'fonctionne', 'fondements', 'font', 'force', 'forcément', 'formation', 'forme', 'formes', 'formidable', 'forte', 'fourmies', 'fracture', 'france', 'français', 'française', 'françaises', 'françois', 'fraternelle', 'fraternité', 'fraudes', 'frustrations', 'fumantes', 'fur', 'furent', 'fut', 'fête', 'gadget', 'gagner', 'gagnerons', 'gain', 'galimatias', 'garanti', 'garantie', 'garde', 'garder', 'gauche', 'gaulle', 'gens', 'gestion', 'glorieuses', 'gouvernement', 'goût', 'grand', 'grande', 'grandi', 'grandir', 'grands', 'grilles', 'gronde', 'grâce', 'grève', 'grèves', 'guerre', 'guerres', 'guettent', 'gyneco', 'général', 'génération', 'générations', 'habileté', 'hasard', 'haut', 'hautes', 'hauteur', 'heures', 'heurter', 'histoire', 'historique', 'hommes', 'honte', 'hostiles', 'huit', 'humain', 'humaines', 'hésitants', 'ici', 'il', 'ils', 'image', 'imaginaires', 'imaginer', 'immenses', 'immobiles', 'immédiat', 'impartial', 'inacceptable', 'incompréhensions', 'indigne', 'indécis', 'infirmières', 'influences', 'ingrid', 'ingrédients', 'innovent', 'insoumis', 'institutions', 'institué', 'intelligence', 'intelligentes', 'interdit', 'internationale', 'interrogée', 'interrompues', 'intéressant', 'intérêt', 'invite', \"j'affirme\", \"j'ai\", \"j'appelle\", \"j'en\", \"j'entends\", \"j'irai\", \"j'oppose\", \"j'organiserai\", \"j'y\", \"j'évoquais\", 'jamais', 'je', 'jeu', 'jeune', 'jeunes', 'jour', 'journée', 'jours', 'jugés', 'juin', 'jurys', 'juste', 'justement', 'justice', 'justice-là', 'justifier', 'karcher', 'l', \"l'a\", \"l'abandon\", \"l'action\", \"l'agilité\", \"l'ai\", \"l'aimons\", \"l'amnésie\", \"l'ardente\", \"l'ardeur\", \"l'art\", \"l'artisanat\", \"l'assistanat\", \"l'audace\", \"l'autorité\", \"l'autre\", \"l'avant\", \"l'avant-garde\", \"l'avenir\", \"l'efficacité\", \"l'effort\", \"l'embauche\", \"l'emploi\", \"l'emporter\", \"l'ensemble\", \"l'entourent\", \"l'entreprise\", \"l'est\", \"l'europe\", \"l'excellence\", \"l'harmonie\", \"l'heure\", \"l'histoire\", \"l'humanité\", \"l'idéal\", \"l'image\", \"l'immense\", \"l'inactivité\", \"l'initiative\", \"l'inquiétude\", \"l'instant\", \"l'intérieur\", \"l'invention\", \"l'inéquité\", \"l'ivg\", \"l'on\", \"l'ordre\", \"l'oreille\", \"l'ump\", \"l'une\", \"l'union\", \"l'université\", \"l'usage\", \"l'échec\", \"l'école\", \"l'écouter\", \"l'éducation\", \"l'égalité\", \"l'émotion\", \"l'énergie\", \"l'époque\", \"l'équipe\", \"l'état\", \"l'étranger\", \"l'être\", 'la', 'laisser', 'laissera', 'laisserait', 'lance', 'langage', 'laquelle', 'laxisme', 'le', 'leaders', 'les', 'lesquelles', 'lesquels', 'lettres', 'leur', 'leurs', 'lever', 'liberté', 'libertés', 'libre', 'libres', 'libère', 'licenciés', 'lieu', 'ligne', 'lilian', 'limite', 'liquider', 'lobes', 'loi', 'longs', 'lorraine', 'lors', \"lorsqu'elle\", 'lui', 'lui-même', 'lumière', 'lutte', 'lutterons', 'là', 'lèvent', \"m'a\", \"m'adresser\", \"m'occuper\", 'ma', 'machine', 'magnifique', 'magnifiques', 'mai', 'main', 'maintenant', 'mais', 'majorité', 'malheur', 'malraux', 'mandats', 'manifestation', 'manifestations', 'manifestent', 'manifester', 'maquiller', 'marche', 'mari', 'marqués', 'masse', 'matin', 'mauriac', 'me', 'meilleure', 'menace', 'menant', 'mendiants', 'menton', 'merci', 'merveilleux', 'message', 'mesure', 'mettrai', 'mettre', 'mettrons', 'miens', 'mieux', 'militaire', 'milliers', 'millions', 'mince', 'miniers', 'minière', 'miracle', 'mise', 'mobilise', 'moderne', 'modernisée', 'modèle', 'modèle-là', 'modèles', 'moeurs', 'moi', 'moins', 'mois', 'moment', 'mon', 'monde', 'mondial', 'mondialisation', 'mondialistes', 'monsieur', 'monte', 'morceaux', 'mot', 'motivation', 'mots', 'mouche', 'mouvement', 'moyennes', 'moyens', 'musiques', 'mystérieux', 'médiatique', 'mémoire', 'méprisée', 'mérite', 'mériter', 'méthode', 'métier', 'métiers', 'même', 'mêmes', \"n'a\", \"n'ait\", \"n'auraient\", \"n'avons\", \"n'en\", \"n'est\", \"n'importe\", \"n'obéit\", \"n'ont\", \"n'oublient\", \"n'y\", \"n'était\", 'naissante', 'nationale', 'ne', 'neuve', 'ni', 'niveaux', 'nom', 'nombre', 'nombreux', 'non', 'nord', 'nos', 'notamment', 'notre', 'noue', 'nous', 'nouveau', 'nouveauté', 'nouvel', 'nouvelle', 'nouvelles', 'nuit', 'née', 'négocier', 'obligation', 'obstinément', 'octroyés', 'omnisport', 'on', 'ont', 'ont-ils', 'opinion', 'opinions', 'opportunistes', 'oppose', 'optimiste', 'ordre', 'organisés', 'ou', 'oublié', 'oui', 'ouvrier', 'ouvriers', 'ovationner', 'où', 'pa', 'pacte', 'page', 'paie', 'paix', 'palais', 'par', 'parce', 'parcelle', 'parcours', 'paresseux', 'parfois', 'paris-bercy', 'parle', 'parlement', 'parlé', 'parmi', 'partage', 'partager', 'partagé', 'participatifs', 'participation', 'participative', 'particulier', 'partie', 'parties', 'partir', 'parvienne', 'parés', 'pas', 'passage', 'passé', 'payer', 'pays', 'payés', 'peine', 'peines', 'pendant', 'pendus', 'pense', 'pensions', 'pensée', 'pensées', 'perdre', 'performant', 'performante', 'permanences', 'permet', 'permis', 'perpétuelle', 'personne', 'personnels', 'personnes', 'perspective', 'petite', 'petites', 'peuple', 'peut', 'peuvent', 'philosophent', 'phrase', 'piqué', 'pire', 'pistes', 'pistolet', 'place', 'plan', 'plein', 'pleurs', 'plu', 'plumes', 'plus', 'police', 'politique', 'politiques', 'porter', 'portera', 'porteur', 'poser', 'positive', 'possibilité', 'possible', 'pour', 'pourquoi', 'pourtant', 'pouvoir', 'pouvons', 'première', 'prend', 'prendre', 'prendrons', 'prennent', 'prenons', 'prenons-nous', 'preuve', 'primes', 'prioritaire', 'pris', 'privé', 'privées', 'prix', 'prochain', 'proclamées', 'produire', 'professionnelle', 'profit', 'profits', 'profond', 'programme', 'progresser', 'progrès', 'projet', 'projeter', 'projets', 'propose', 'proposer', 'propres', 'prospérité', 'protection', 'protège', 'protéger', 'protégé', 'précarité', 'précarités', 'préciser', 'précédé', 'présence', 'présents', 'présidente', 'publics', 'publique', 'publiques', 'puis', 'puisse', 'puissent', 'purement', 'père', 'péril', \"qu'aujourd'hui\", \"qu'elle\", \"qu'elles\", \"qu'en\", \"qu'est-ce\", \"qu'il\", \"qu'ils\", \"qu'on\", \"qu'ont\", \"qu'une\", \"qu'à\", 'quand', 'quarante', 'quartiers', 'quatre', 'quatrième', 'que', 'quelle', 'quelques', 'quelques-uns', 'quels', 'question', 'questions', 'qui', 'quoi', 'r', 'rabatte', 'raisons', 'rang', 'rapidement', 'rappeler', 'rapprocheront', 'rassemble', 'rassemblement', 'rassemblent', 'rassembler', 'rassemblerai', 'rassemblons-nous', 'rassemblée', 'rassemblés', 'ravages', 'recherche', 'reconnaissons-le', 'reconnus', 'recule', 'redistribuer', 'redonner', 'redonnerons', 'redonné', 'redresser', 'redéfiler', 'reformater', 'refus', 'refusait', 'regard', 'regarde', 'rejoindre', 'relevé', 'relevée', 'relise', 'relève', 'relèverons', 'remercie', 'remettre', 'remonter', 'remontée', 'remotiverons', 'remède', 'renaissante', 'rencontre', 'rencontré', 'rencontrés', 'rendez-vous', 'rendra', 'rendre', 'rendront', 'renoncerai', 'repartir', 'replier', 'reposent', 'reproche', 'respect', 'respecter', 'responsabilité', 'ressent', 'ressentent', 'ressource', 'ressources', 'reste', 'restent', 'retour', 'retraites', 'revaloriserai', 'revanche', 'revendications', 'revendiquer', 'reçu', 'riches', 'richesse', 'richesses', 'rien', 'risque', 'risques', 'rmi', 'rues', 'ruiner', 'rupture', 'règles', 'récemment', 'récompense', 'réconciliation', 'réconcilier', 'réconcilierons', 'réconcilié', 'réconciliée', 'récuse', 'réfléchir', 'réforme', 'réformer', 'réformes', 'référendum', 'rémunèrent', 'rénovée', 'réorganisée', 'réorienter', 'répartit', 'répondre', 'répondu', 'réprimée', 'réprimés', 'républicaine', 'républicains', 'république', 'réputée', 'résignerait', 'résolu', 'résulteraient', 'réunion', 'réussite', 'réversion', 'révoltes', 'révolution', 'réécrivent', 'rêve', 'rôle', 's', \"s'agit\", \"s'ils\", \"s'occupe\", \"s'éloigner\", \"s'était\", 'sa', 'sachent', 'sais', 'sait', 'salaires', 'salariaux', 'salariés', 'salue', 'sang-froid', 'sans', 'santé', 'sarkozy', 'satisfaire', 'sauf', 'sauvagement', 'sauvons', 'savais', 'savent', 'savez', 'saviez', 'savons', 'scandaleux', 'sceau', 'scolaire', 'scène', 'se', 'secrétaire', 'sein', 'semaine', 'semblait', 'semblant', 'sens', 'senti', 'sentiment', 'sentons', 'septembre', 'sera', 'serai', 'seraient', 'serment', 'seront', 'services', 'servitude', 'ses', 'seul', 'seule', 'seules', 'si', 'signe', 'silence', 'silencieuse', 'simple', 'simplement', 'sinon', 'situent', 'six', 'siècle', 'smic', 'social', 'sociale', 'socialiste', 'sociaux', 'société', 'soient', 'soins', 'soir', 'soit', 'solennellement', 'solidarité', 'solide', 'sommes', 'son', 'sont', 'sort', 'sortante', 'sorte', 'sortir', 'souffler', 'souhaite', 'soulève', 'source', 'souriante', 'sous', 'soutien', 'soutiendrai', 'soutiens', 'souvenirs', 'souviennent', 'soyez', 'soyons', 'soyons-en', 'stigmatiser', 'stock-options', 'styles', 'subissent', 'succès', 'suis', 'suivre', 'supérieur', 'sur', 'surexploitation', 'surtout', 'susciter', 'syndicalisme', 'syndicat', 'syndicats', 'syndicaux', 'système', 'sécurisera', 'sécurité', 'sécurités', 'sûr', 'sûre', 'talents', 'tant', 'tapie', 'tard', 'tellement', 'tels', 'tempe', 'temps', 'tend', 'tendons', 'tentation', 'tentative', 'tenu', 'terminent', 'terre', 'territoire', 'territoires', 'thibault', 'thuram', 'tiens', 'tirer', 'tohu-bohu', 'tolérante', 'total', 'toucher', 'touché', 'toujours', 'tournant', 'tous', 'tout', 'toute', 'toutes', 'traduire', 'train', 'transports', 'travail', 'travaillent', 'travailleurs', 'travailleuses', 'travaillé', 'trente', 'triompher', 'trois', 'trouve', 'trébuché', 'tués', 'tâche', 'tête', 'têtes', 'tôt', 'ultime', 'un', 'une', 'unes', 'universelles', 'universités', 'uns', 'va', 'vais', 'valeur', 'valeurs', 'vaudrait', 'vaut', 'vent', 'venus', 'vergogne', 'vers', 'versant', 'veulent', 'veut', 'veuves', 'veux', 'victime', 'victimes', 'victoire', 'victorieux', 'vie', 'viendra', 'viennent', 'vient', 'vies', 'village', 'ville', 'violence', 'violences', 'vive', 'vivre', 'vocabulaire', 'voilà', 'voir', 'vois', 'voitures', 'vont', 'vos', 'vosges', 'votre', 'voudrais', 'voulaient', 'voulait', 'voulez-vous', 'voulons', 'voulu', 'vous', 'voyant', 'voyez-vous', 'vrai', 'vraiment', 'vu', 'vues', 'véritable', 'y', 'yeux', 'à', 'âgées', 'écarts', 'échanges', 'échoué', 'éclater', 'écologique', 'économie', 'économique', 'économiques', 'écouter', 'écoutons', 'écrire', 'écrite', 'éduquent', 'élan', 'élargies', 'électeurs', 'électorale', 'élevant', 'élever', 'élèvent', 'élémentaires', 'énergies', 'équipe', 'étaient', 'était', 'étapes', 'état', 'états-unis', 'été', 'évident', 'événement', 'êtes', 'être']\n"
          ]
        },
        {
          "output_type": "execute_result",
          "data": {
            "text/plain": [
              "(95, 1433)"
            ]
          },
          "metadata": {},
          "execution_count": 4
        }
      ]
    },
    {
      "cell_type": "markdown",
      "metadata": {
        "id": "VW0580KGVgs7"
      },
      "source": [
        "# Unsupervised learning"
      ]
    },
    {
      "cell_type": "code",
      "metadata": {
        "id": "ngqF-NAMVpvw"
      },
      "source": [
        "from sklearn.cluster import KMeans\n",
        "\n",
        "\n",
        "kmeans = KMeans(n_clusters=5).fit(pipe.transform(corpus))"
      ],
      "execution_count": null,
      "outputs": []
    },
    {
      "cell_type": "markdown",
      "metadata": {
        "id": "dnGHMGeTY0Fs"
      },
      "source": [
        "# Test prédiction"
      ]
    },
    {
      "cell_type": "code",
      "metadata": {
        "colab": {
          "base_uri": "https://localhost:8080/"
        },
        "id": "akIA4SMSY3zm",
        "outputId": "f3628dde-aeb4-4df6-ca8b-88e6d57f34df"
      },
      "source": [
        "# https://medium.com/@MSalnikov/text-clustering-with-k-means-and-tf-idf-f099bcf95183\n",
        "\n",
        "classement = kmeans.predict(pipe.transform(corpus))\n",
        "\n",
        "print(classement)\n",
        "finalclassement = []\n",
        "for i in range(len(discoursarray)):\n",
        "  # With k=2\n",
        "  #bord = \"Vieux\" if classement[i] == 0 else \"Récent\"\n",
        "\n",
        "  # With k=5\n",
        "  bord = classement[i]\n",
        "  result = {discoursarray[i][\"filenames\"] + \" : \" + str(bord)}\n",
        "  finalclassement.append(result)\n",
        "\n",
        "print(finalclassement)"
      ],
      "execution_count": null,
      "outputs": [
        {
          "output_type": "stream",
          "name": "stdout",
          "text": [
            "[1 2 2 2 2 0 2 2 2 2 0 1 3 2 1 1 1 1 1 1 1 1 1 1 1 1 1 1 1 1 1 1 1 1 1 1 0\n",
            " 1 0 0 0 0 0 0 0 1 1 1 0 1 1 0 1 1 0 0 4 0 0 0 0 0 2 2 3 3 1 3 3 3 3 3 3 3\n",
            " 3 3 3 1 1 1 1 1 3 2 2 1 2 2 2 4 4 4 4 4 4]\n",
            "[{'Alain_Madelin_702.txt : 1'}, {'Arlette_Laguiller_70.txt : 2'}, {'Arlette_Laguiller_38.txt : 2'}, {'Arlette_Laguiller_97.txt : 2'}, {'Arlette_Laguiller_47.txt : 2'}, {'Bruno_Mégret_466.txt : 0'}, {'Arlette_Laguiller_810.txt : 2'}, {'Arlette_Laguiller_201.txt : 2'}, {'Arlette_Laguiller_765.txt : 2'}, {'Arlette_Laguiller_86.txt : 2'}, {'Corinne_Lepage_889.txt : 0'}, {'Eva_Joly_339.txt : 1'}, {'Eva_Joly_725.txt : 3'}, {'Arlette_Laguiller_299.txt : 2'}, {'Dominique_Voynet_663.txt : 1'}, {'François_Bayrou_751.txt : 1'}, {'François_Bayrou_259.txt : 1'}, {'François_Bayrou_156.txt : 1'}, {'François_Bayrou_257.txt : 1'}, {'François_Bayrou_108.txt : 1'}, {'François_Bayrou_546.txt : 1'}, {'François_Bayrou_798.txt : 1'}, {'François_Bayrou_814.txt : 1'}, {'François_Bayrou_965.txt : 1'}, {'François_Hollande_188.txt : 1'}, {'François_Hollande_286.txt : 1'}, {'François_Bayrou_886.txt : 1'}, {'François_Hollande_402.txt : 1'}, {'François_Hollande_227.txt : 1'}, {'François_Hollande_476.txt : 1'}, {'François_Hollande_836.txt : 1'}, {'François_Hollande_470.txt : 1'}, {'François_Hollande_709.txt : 1'}, {'François_Hollande_937.txt : 1'}, {'François_Hollande_951.txt : 1'}, {'Gérard_Schivardi_999.txt : 1'}, {'Jacques_Chirac_60.txt : 0'}, {'François_Hollande_975.txt : 1'}, {'Jacques_Chirac_139.txt : 0'}, {'Jacques_Chirac_375.txt : 0'}, {'Jacques_Chirac_454.txt : 0'}, {'Jacques_Chirac_514.txt : 0'}, {'Jacques_Chirac_624.txt : 0'}, {'Jacques_Chirac_638.txt : 0'}, {'Jacques_Chirac_758.txt : 0'}, {'Jean-Luc_Mélenchon_391.txt : 1'}, {'Jean-Marie_Le_Pen_684.txt : 1'}, {'Jean-Marie_Le_Pen_922.txt : 1'}, {'Jean-Pierre_Chevènement_849.txt : 0'}, {'Jean-Marie_Le_Pen_475.txt : 1'}, {'Jean-Marie_Le_Pen_982.txt : 1'}, {'Jean-Pierre_Chevènement_504.txt : 0'}, {'Jean-Pierre_Chevènement_818.txt : 1'}, {'José_Bové_963.txt : 1'}, {'Lionel_Jospin_467.txt : 0'}, {'Lionel_Jospin_300.txt : 0'}, {'Marie-George_Buffet_194.txt : 4'}, {'Lionel_Jospin_829.txt : 0'}, {'Lionel_Jospin_535.txt : 0'}, {'Lionel_Jospin_497.txt : 0'}, {'Marine_Le_Pen_553.txt : 0'}, {'Lionel_Jospin_858.txt : 0'}, {'Nathalie_Arthaud_211.txt : 2'}, {'Nathalie_Arthaud_66.txt : 2'}, {'Nicolas_Sarkozy_144.txt : 3'}, {'Nicolas_Sarkozy_0.txt : 3'}, {'Nicolas_Sarkozy_69.txt : 1'}, {'Nicolas_Sarkozy_187.txt : 3'}, {'Nicolas_Sarkozy_402.txt : 3'}, {'Nicolas_Sarkozy_435.txt : 3'}, {'Nicolas_Sarkozy_225.txt : 3'}, {'Nicolas_Sarkozy_519.txt : 3'}, {'Nicolas_Sarkozy_535.txt : 3'}, {'Nicolas_Sarkozy_531.txt : 3'}, {'Nicolas_Sarkozy_544.txt : 3'}, {'Nicolas_Sarkozy_555.txt : 3'}, {'Nicolas_Sarkozy_624.txt : 3'}, {'Nicolas_Sarkozy_595.txt : 1'}, {'Nicolas_Sarkozy_701.txt : 1'}, {'Olivier_Besancenot_13.txt : 1'}, {'Nicolas_Sarkozy_679.txt : 1'}, {'Nicolas_Sarkozy_692.txt : 1'}, {'Nicolas_Sarkozy_937.txt : 3'}, {'Olivier_Besancenot_536.txt : 2'}, {'Robert_Hue_163.txt : 2'}, {'Philippe_Poutou_416.txt : 1'}, {'Robert_Hue_275.txt : 2'}, {'Robert_Hue_402.txt : 2'}, {'Robert_Hue_991.txt : 2'}, {'Ségolène_Royal_324.txt : 4'}, {'Ségolène_Royal_401.txt : 4'}, {'Ségolène_Royal_732.txt : 4'}, {'Ségolène_Royal_781.txt : 4'}, {'Ségolène_Royal_860.txt : 4'}, {'Ségolène_Royal_890.txt : 4'}]\n"
          ]
        }
      ]
    },
    {
      "cell_type": "markdown",
      "metadata": {
        "id": "xBjb2A6AtcZg"
      },
      "source": [
        "# Supervised learning"
      ]
    },
    {
      "cell_type": "code",
      "metadata": {
        "id": "KPTobis2tkJP",
        "colab": {
          "base_uri": "https://localhost:8080/",
          "height": 198
        },
        "outputId": "5cedc472-6792-4c8e-e741-961bb18830d4"
      },
      "source": [
        "# https://medium.com/@eiki1212/natural-language-processing-naive-bayes-classification-in-python-e934365cf40c\n",
        "\n",
        "# Create model(naive bayes) and training. \n",
        "from sklearn.naive_bayes import MultinomialNB\n",
        "clf = MultinomialNB().fit(pipe.transform(corpus), news_groups_train.target)\n"
      ],
      "execution_count": null,
      "outputs": [
        {
          "output_type": "error",
          "ename": "NameError",
          "evalue": "ignored",
          "traceback": [
            "\u001b[0;31m---------------------------------------------------------------------------\u001b[0m",
            "\u001b[0;31mNameError\u001b[0m                                 Traceback (most recent call last)",
            "\u001b[0;32m<ipython-input-7-e0ac61057067>\u001b[0m in \u001b[0;36m<module>\u001b[0;34m()\u001b[0m\n\u001b[1;32m      3\u001b[0m \u001b[0;31m# Create model(naive bayes) and training.\u001b[0m\u001b[0;34m\u001b[0m\u001b[0;34m\u001b[0m\u001b[0;34m\u001b[0m\u001b[0m\n\u001b[1;32m      4\u001b[0m \u001b[0;32mfrom\u001b[0m \u001b[0msklearn\u001b[0m\u001b[0;34m.\u001b[0m\u001b[0mnaive_bayes\u001b[0m \u001b[0;32mimport\u001b[0m \u001b[0mMultinomialNB\u001b[0m\u001b[0;34m\u001b[0m\u001b[0;34m\u001b[0m\u001b[0m\n\u001b[0;32m----> 5\u001b[0;31m \u001b[0mclf\u001b[0m \u001b[0;34m=\u001b[0m \u001b[0mMultinomialNB\u001b[0m\u001b[0;34m(\u001b[0m\u001b[0;34m)\u001b[0m\u001b[0;34m.\u001b[0m\u001b[0mfit\u001b[0m\u001b[0;34m(\u001b[0m\u001b[0mpipe\u001b[0m\u001b[0;34m.\u001b[0m\u001b[0mtransform\u001b[0m\u001b[0;34m(\u001b[0m\u001b[0mcorpus\u001b[0m\u001b[0;34m)\u001b[0m\u001b[0;34m,\u001b[0m \u001b[0mnews_groups_train\u001b[0m\u001b[0;34m.\u001b[0m\u001b[0mtarget\u001b[0m\u001b[0;34m)\u001b[0m\u001b[0;34m\u001b[0m\u001b[0;34m\u001b[0m\u001b[0m\n\u001b[0m",
            "\u001b[0;31mNameError\u001b[0m: name 'news_groups_train' is not defined"
          ]
        }
      ]
    }
  ]
}