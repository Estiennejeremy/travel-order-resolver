{
  "nbformat": 4,
  "nbformat_minor": 0,
  "metadata": {
    "colab": {
      "name": "bootstrap time travel",
      "provenance": [],
      "collapsed_sections": []
    },
    "kernelspec": {
      "name": "python3",
      "display_name": "Python 3"
    },
    "language_info": {
      "name": "python"
    }
  },
  "cells": [
    {
      "cell_type": "markdown",
      "metadata": {
        "id": "ZhvN_8BA12sV"
      },
      "source": [
        "## Loads all data from gdrive"
      ]
    },
    {
      "cell_type": "code",
      "metadata": {
        "colab": {
          "base_uri": "https://localhost:8080/"
        },
        "id": "LCnBHjn1zpap",
        "outputId": "953ce361-e989-458a-8e1f-4bca11451354"
      },
      "source": [
        "import os, sys\n",
        "import re\n",
        "import collections \n",
        "directory = '/content/drive/MyDrive/data/discours/tous'\n",
        "\n",
        "def getText(arrayAu):\n",
        "  arra = os.listdir(directory)\n",
        "  allData = []\n",
        "  for i in arra:\n",
        "    test = i.split('_')\n",
        "    f = open(directory + \"/\" + i, 'r')\n",
        "    file_content = f.read()\n",
        "    info = (file_content[:40] + '..') if len(file_content) > 40 else file_content\n",
        "    allData.append(file_content)\n",
        "    f.close()\n",
        "    #print( i + \":\" + info)\n",
        "    \n",
        "  return allData\n",
        "\n",
        "\n",
        "\n",
        "candis = {};\n",
        "for filename in os.listdir(directory): \n",
        "    if filename.endswith(\".txt\"): \n",
        "        candi = filename.split(\"_\")[0] + \"_\" + filename.split(\"_\")[1];\n",
        "        if candi in candis:\n",
        "            candis[candi][\"fichiers\"].append(filename);\n",
        "        else:\n",
        "            candis[candi] = {\"fichiers\": [filename] };\n",
        "    else:\n",
        "        continue\n",
        "print(candis)\n"
      ],
      "execution_count": 49,
      "outputs": [
        {
          "output_type": "stream",
          "name": "stdout",
          "text": [
            "{'Lionel_Jospin': {'fichiers': ['Lionel_Jospin_467.txt', 'Lionel_Jospin_858.txt', 'Lionel_Jospin_497.txt', 'Lionel_Jospin_829.txt', 'Lionel_Jospin_535.txt', 'Lionel_Jospin_300.txt']}, 'Nathalie_Arthaud': {'fichiers': ['Nathalie_Arthaud_211.txt', 'Nathalie_Arthaud_66.txt']}, 'Robert_Hue': {'fichiers': ['Robert_Hue_402.txt', 'Robert_Hue_275.txt', 'Robert_Hue_163.txt', 'Robert_Hue_991.txt']}, 'Jean-Marie_Le': {'fichiers': ['Jean-Marie_Le_Pen_922.txt', 'Jean-Marie_Le_Pen_684.txt', 'Jean-Marie_Le_Pen_475.txt', 'Jean-Marie_Le_Pen_982.txt']}, 'François_Bayrou': {'fichiers': ['François_Bayrou_886.txt', 'François_Bayrou_798.txt', 'François_Bayrou_257.txt', 'François_Bayrou_814.txt', 'François_Bayrou_156.txt', 'François_Bayrou_546.txt', 'François_Bayrou_108.txt', 'François_Bayrou_259.txt', 'François_Bayrou_751.txt', 'François_Bayrou_965.txt']}, 'Arlette_Laguiller': {'fichiers': ['Arlette_Laguiller_97.txt', 'Arlette_Laguiller_201.txt', 'Arlette_Laguiller_810.txt', 'Arlette_Laguiller_47.txt', 'Arlette_Laguiller_70.txt', 'Arlette_Laguiller_38.txt', 'Arlette_Laguiller_86.txt', 'Arlette_Laguiller_299.txt', 'Arlette_Laguiller_765.txt']}, 'Nicolas_Sarkozy': {'fichiers': ['Nicolas_Sarkozy_624.txt', 'Nicolas_Sarkozy_69.txt', 'Nicolas_Sarkozy_435.txt', 'Nicolas_Sarkozy_679.txt', 'Nicolas_Sarkozy_544.txt', 'Nicolas_Sarkozy_595.txt', 'Nicolas_Sarkozy_531.txt', 'Nicolas_Sarkozy_555.txt', 'Nicolas_Sarkozy_187.txt', 'Nicolas_Sarkozy_519.txt', 'Nicolas_Sarkozy_0.txt', 'Nicolas_Sarkozy_225.txt', 'Nicolas_Sarkozy_144.txt', 'Nicolas_Sarkozy_701.txt', 'Nicolas_Sarkozy_937.txt', 'Nicolas_Sarkozy_535.txt', 'Nicolas_Sarkozy_402.txt', 'Nicolas_Sarkozy_692.txt']}, 'Philippe_Poutou': {'fichiers': ['Philippe_Poutou_416.txt']}, 'Ségolène_Royal': {'fichiers': ['Ségolène_Royal_732.txt', 'Ségolène_Royal_324.txt', 'Ségolène_Royal_890.txt', 'Ségolène_Royal_860.txt', 'Ségolène_Royal_401.txt', 'Ségolène_Royal_781.txt']}, 'Marine_Le': {'fichiers': ['Marine_Le_Pen_553.txt']}, 'François_Hollande': {'fichiers': ['François_Hollande_402.txt', 'François_Hollande_476.txt', 'François_Hollande_836.txt', 'François_Hollande_227.txt', 'François_Hollande_937.txt', 'François_Hollande_188.txt', 'François_Hollande_470.txt', 'François_Hollande_951.txt', 'François_Hollande_709.txt', 'François_Hollande_975.txt', 'François_Hollande_286.txt']}, 'Jean-Luc_Mélenchon': {'fichiers': ['Jean-Luc_Mélenchon_391.txt']}, 'Jacques_Chirac': {'fichiers': ['Jacques_Chirac_375.txt', 'Jacques_Chirac_454.txt', 'Jacques_Chirac_638.txt', 'Jacques_Chirac_514.txt', 'Jacques_Chirac_624.txt', 'Jacques_Chirac_758.txt', 'Jacques_Chirac_139.txt', 'Jacques_Chirac_60.txt']}, 'Jean-Pierre_Chevènement': {'fichiers': ['Jean-Pierre_Chevènement_818.txt', 'Jean-Pierre_Chevènement_504.txt', 'Jean-Pierre_Chevènement_849.txt']}, 'Marie-George_Buffet': {'fichiers': ['Marie-George_Buffet_194.txt']}, 'Olivier_Besancenot': {'fichiers': ['Olivier_Besancenot_536.txt', 'Olivier_Besancenot_13.txt']}, 'José_Bové': {'fichiers': ['José_Bové_963.txt']}, 'Bruno_Mégret': {'fichiers': ['Bruno_Mégret_466.txt']}, 'Gérard_Schivardi': {'fichiers': ['Gérard_Schivardi_999.txt']}, 'Dominique_Voynet': {'fichiers': ['Dominique_Voynet_663.txt']}, 'Eva_Joly': {'fichiers': ['Eva_Joly_725.txt', 'Eva_Joly_339.txt']}, 'Alain_Madelin': {'fichiers': ['Alain_Madelin_702.txt']}, 'Corinne_Lepage': {'fichiers': ['Corinne_Lepage_889.txt']}}\n"
          ]
        }
      ]
    },
    {
      "cell_type": "code",
      "metadata": {
        "colab": {
          "base_uri": "https://localhost:8080/"
        },
        "id": "3CQB_WVR8qjk",
        "outputId": "a7310a63-369b-4052-8b72-0d5577896f80"
      },
      "source": [
        "from sklearn.feature_extraction.text import CountVectorizer\n",
        "from sklearn.feature_extraction.text import TfidfTransformer\n",
        "allMatrices = {}\n",
        "\n",
        "\n",
        "\n",
        "for candi in candis:\n",
        "  texts = getText(candis[candi])\n",
        "  print(texts)\n",
        "  vectorizer = CountVectorizer()\n",
        "  vectorizer.fit(texts) \n",
        "  vector = vectorizer.transform(texts)\n",
        "  tfidf = TfidfTransformer()\n",
        "  tfidf.fit(vector)\n",
        "  allMatrices[candi] = vector\n",
        "\n",
        "print(allMatrices)\n",
        "\n",
        "\n",
        "\n",
        "\n"
      ],
      "execution_count": 50,
      "outputs": [
        {
          "output_type": "stream",
          "name": "stderr",
          "text": [
            "IOPub data rate exceeded.\n",
            "The notebook server will temporarily stop sending output\n",
            "to the client in order to avoid crashing it.\n",
            "To change this limit, set the config variable\n",
            "`--NotebookApp.iopub_data_rate_limit`.\n",
            "\n",
            "Current values:\n",
            "NotebookApp.iopub_data_rate_limit=1000000.0 (bytes/sec)\n",
            "NotebookApp.rate_limit_window=3.0 (secs)\n",
            "\n"
          ]
        },
        {
          "output_type": "stream",
          "name": "stdout",
          "text": [
            "{'Lionel_Jospin': <95x21630 sparse matrix of type '<class 'numpy.int64'>'\n",
            "\twith 136661 stored elements in Compressed Sparse Row format>, 'Nathalie_Arthaud': <95x21630 sparse matrix of type '<class 'numpy.int64'>'\n",
            "\twith 136661 stored elements in Compressed Sparse Row format>, 'Robert_Hue': <95x21630 sparse matrix of type '<class 'numpy.int64'>'\n",
            "\twith 136661 stored elements in Compressed Sparse Row format>, 'Jean-Marie_Le': <95x21630 sparse matrix of type '<class 'numpy.int64'>'\n",
            "\twith 136661 stored elements in Compressed Sparse Row format>, 'François_Bayrou': <95x21630 sparse matrix of type '<class 'numpy.int64'>'\n",
            "\twith 136661 stored elements in Compressed Sparse Row format>, 'Arlette_Laguiller': <95x21630 sparse matrix of type '<class 'numpy.int64'>'\n",
            "\twith 136661 stored elements in Compressed Sparse Row format>, 'Nicolas_Sarkozy': <95x21630 sparse matrix of type '<class 'numpy.int64'>'\n",
            "\twith 136661 stored elements in Compressed Sparse Row format>, 'Philippe_Poutou': <95x21630 sparse matrix of type '<class 'numpy.int64'>'\n",
            "\twith 136661 stored elements in Compressed Sparse Row format>, 'Ségolène_Royal': <95x21630 sparse matrix of type '<class 'numpy.int64'>'\n",
            "\twith 136661 stored elements in Compressed Sparse Row format>, 'Marine_Le': <95x21630 sparse matrix of type '<class 'numpy.int64'>'\n",
            "\twith 136661 stored elements in Compressed Sparse Row format>, 'François_Hollande': <95x21630 sparse matrix of type '<class 'numpy.int64'>'\n",
            "\twith 136661 stored elements in Compressed Sparse Row format>, 'Jean-Luc_Mélenchon': <95x21630 sparse matrix of type '<class 'numpy.int64'>'\n",
            "\twith 136661 stored elements in Compressed Sparse Row format>, 'Jacques_Chirac': <95x21630 sparse matrix of type '<class 'numpy.int64'>'\n",
            "\twith 136661 stored elements in Compressed Sparse Row format>, 'Jean-Pierre_Chevènement': <95x21630 sparse matrix of type '<class 'numpy.int64'>'\n",
            "\twith 136661 stored elements in Compressed Sparse Row format>, 'Marie-George_Buffet': <95x21630 sparse matrix of type '<class 'numpy.int64'>'\n",
            "\twith 136661 stored elements in Compressed Sparse Row format>, 'Olivier_Besancenot': <95x21630 sparse matrix of type '<class 'numpy.int64'>'\n",
            "\twith 136661 stored elements in Compressed Sparse Row format>, 'José_Bové': <95x21630 sparse matrix of type '<class 'numpy.int64'>'\n",
            "\twith 136661 stored elements in Compressed Sparse Row format>, 'Bruno_Mégret': <95x21630 sparse matrix of type '<class 'numpy.int64'>'\n",
            "\twith 136661 stored elements in Compressed Sparse Row format>, 'Gérard_Schivardi': <95x21630 sparse matrix of type '<class 'numpy.int64'>'\n",
            "\twith 136661 stored elements in Compressed Sparse Row format>, 'Dominique_Voynet': <95x21630 sparse matrix of type '<class 'numpy.int64'>'\n",
            "\twith 136661 stored elements in Compressed Sparse Row format>, 'Eva_Joly': <95x21630 sparse matrix of type '<class 'numpy.int64'>'\n",
            "\twith 136661 stored elements in Compressed Sparse Row format>, 'Alain_Madelin': <95x21630 sparse matrix of type '<class 'numpy.int64'>'\n",
            "\twith 136661 stored elements in Compressed Sparse Row format>, 'Corinne_Lepage': <95x21630 sparse matrix of type '<class 'numpy.int64'>'\n",
            "\twith 136661 stored elements in Compressed Sparse Row format>}\n"
          ]
        }
      ]
    },
    {
      "cell_type": "markdown",
      "metadata": {
        "id": "I_TscCNg-ok2"
      },
      "source": [
        "\n",
        "## Let's go for the *UNSUPERVISED* model"
      ]
    },
    {
      "cell_type": "code",
      "metadata": {
        "id": "ev3-j9pT-t93"
      },
      "source": [
        "from sklearn.cluster import KMeans\n",
        "\n",
        "kmeans = KMeans(n_clusters=2, random_state=0).fit(vector.toArray())\n",
        "\n",
        "kmeans.labels_\n",
        "\n"
      ],
      "execution_count": null,
      "outputs": []
    },
    {
      "cell_type": "markdown",
      "metadata": {
        "id": "2Yr3vl2ljPaK"
      },
      "source": [
        ""
      ]
    }
  ]
}